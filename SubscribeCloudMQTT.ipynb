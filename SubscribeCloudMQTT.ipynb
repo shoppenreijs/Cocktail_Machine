{
 "cells": [
  {
   "cell_type": "code",
   "execution_count": 12,
   "metadata": {},
   "outputs": [
    {
     "name": "stdout",
     "output_type": "stream",
     "text": [
      "Message received: 2019-07-31 18:12:49.802809\n",
      "exiting\n"
     ]
    }
   ],
   "source": [
    "import paho.mqtt.client as mqttClient\n",
    "import time\n",
    " \n",
    "def on_connect(client, userdata, flags, rc):\n",
    "    if rc == 0:\n",
    "        #print(\"Connected to broker\")\n",
    "        global Connected                #Use global variable\n",
    "        Connected = True                #Signal connection \n",
    " \n",
    "    else:\n",
    "        print(\"Connection failed\")\n",
    "\n",
    "def on_message(client, userdata, message):\n",
    "    print(\"Message received: \"  + str(message.payload.decode(\"utf-8\")))\n",
    "\n",
    "Connected = False   #global variable for the state of the connection\n",
    " \n",
    "broker_address= \"m24.cloudmqtt.com\"  #Broker address\n",
    "port = 10552                         #Broker port\n",
    "user = \"xvgfmnhm\"                    #Connection username\n",
    "password = \"YD2yAN5wS9_U\"            #Connection password\n",
    " \n",
    "client = mqttClient.Client(\"Python\")               #create new instance\n",
    "client.username_pw_set(user, password=password)    #set username and password\n",
    "client.on_connect= on_connect                      #attach function to callback\n",
    "client.on_message= on_message                      #attach function to callback\n",
    " \n",
    "client.connect(broker_address, port=port)          #connect to broker\n",
    " \n",
    "client.loop_start()        #start the loop\n",
    " \n",
    "while Connected != True:    #Wait for connection\n",
    "    time.sleep(0.1)\n",
    "\n",
    "client.subscribe(\"beunsessie3\")\n",
    " \n",
    "\n",
    "try:\n",
    "    while True:\n",
    "        time.sleep(0.1)\n",
    "#        new_value = on_message;\n",
    "#    if True: #(new_value != value):\n",
    "#        print(new_value)\n",
    "#        value = new_value\n",
    "#        time.sleep(5)\n",
    "        \n",
    "\n",
    "except KeyboardInterrupt:\n",
    "    print(\"exiting\")\n",
    "    client.disconnect()\n",
    "    client.loop_stop()"
   ]
  }
 ],
 "metadata": {
  "kernelspec": {
   "display_name": "Python 3",
   "language": "python",
   "name": "python3"
  },
  "language_info": {
   "codemirror_mode": {
    "name": "ipython",
    "version": 3
   },
   "file_extension": ".py",
   "mimetype": "text/x-python",
   "name": "python",
   "nbconvert_exporter": "python",
   "pygments_lexer": "ipython3",
   "version": "3.6.5"
  }
 },
 "nbformat": 4,
 "nbformat_minor": 2
}
