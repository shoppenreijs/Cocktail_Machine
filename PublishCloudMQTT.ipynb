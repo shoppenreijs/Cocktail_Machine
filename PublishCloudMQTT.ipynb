{
 "cells": [
  {
   "cell_type": "code",
   "execution_count": null,
   "metadata": {},
   "outputs": [],
   "source": [
    "#import class to have access to all functionality needs to connect to the broker\n",
    "#to publish massages to topics, time is imported to introduce delays in code\n",
    "\n",
    "import paho.mqtt.client as mqttClient\n",
    "import time\n",
    "import datetime\n",
    "\n",
    "\n",
    "def on_connect(client, userdata, flags, rc):\n",
    "    if rc == 0:\n",
    "        #print(\"Connected to broker\")\n",
    "        global Connected                #Use global variable\n",
    "        Connected = True                #Signal connection \n",
    " \n",
    "    else:\n",
    "        print(\"Connection failed\")\n",
    "\n",
    "Connected = False   #global variable for the state of the connection\n",
    "    \n",
    "broker_address= \"m24.cloudmqtt.com\"\n",
    "port = 10552\n",
    "user = \"xvgfmnhm\"\n",
    "password = \"YD2yAN5wS9_U\"\n",
    " \n",
    "client = mqttClient.Client(\"Python\")               #create new instance\n",
    "client.username_pw_set(user, password=password)    #set username and password\n",
    "client.on_connect= on_connect                      #attach function to callback\n",
    "client.connect(broker_address, port=port)          #connect to broker\n",
    " \n",
    "client.loop_start()        #start the loop\n",
    " \n",
    "while Connected != True:    #Wait for connection\n",
    "    time.sleep(0.1)\n",
    "    \n",
    "try:\n",
    "    while True:\n",
    "        value = str(datetime.datetime.now())\n",
    "        client.publish(\"beunsessie3\",value, retain=True) \n",
    "        time.sleep(30)\n",
    "        \n",
    "except KeyboardInterrupt:\n",
    "    print(\"exiting\")\n",
    "    client.disconnect()\n",
    "    client.loop_stop()\n",
    "    \n",
    "#SOURCE:\n",
    "#https://techtutorialsx.com/2017/04/14/python-publishing-messages-to-mqtt-topic/"
   ]
  }
 ],
 "metadata": {
  "kernelspec": {
   "display_name": "Python 3",
   "language": "python",
   "name": "python3"
  },
  "language_info": {
   "codemirror_mode": {
    "name": "ipython",
    "version": 3
   },
   "file_extension": ".py",
   "mimetype": "text/x-python",
   "name": "python",
   "nbconvert_exporter": "python",
   "pygments_lexer": "ipython3",
   "version": "3.6.5"
  }
 },
 "nbformat": 4,
 "nbformat_minor": 2
}
